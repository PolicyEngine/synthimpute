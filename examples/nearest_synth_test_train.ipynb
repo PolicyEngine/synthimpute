{
 "cells": [
  {
   "cell_type": "markdown",
   "metadata": {},
   "source": [
    "# `nearest_synth_train_test` example\n",
    "\n",
    "For `synthimpute` package. Uses the `mpg` sample dataset."
   ]
  },
  {
   "cell_type": "markdown",
   "metadata": {},
   "source": [
    "## Setup"
   ]
  },
  {
   "cell_type": "code",
   "execution_count": 1,
   "metadata": {},
   "outputs": [],
   "source": [
    "import synthimpute as si\n",
    "import pandas as pd\n",
    "import numpy as np\n",
    "from scipy.spatial.distance import euclidean\n",
    "from sklearn.model_selection import train_test_split"
   ]
  },
  {
   "cell_type": "code",
   "execution_count": 2,
   "metadata": {},
   "outputs": [],
   "source": [
    "mpg = pd.read_csv(\n",
    "    \"https://raw.githubusercontent.com/mwaskom/seaborn-data/master/mpg.csv\"\n",
    ")\n",
    "# Drop class columns and sometimes-missing horsepower.\n",
    "mpg.drop([\"origin\", \"name\", \"horsepower\"], axis=1, inplace=True)"
   ]
  },
  {
   "cell_type": "code",
   "execution_count": 3,
   "metadata": {},
   "outputs": [],
   "source": [
    "train, test = train_test_split(mpg, test_size=0.5, random_state=0)\n",
    "train.reset_index(inplace=True)\n",
    "test.reset_index(inplace=True)"
   ]
  },
  {
   "cell_type": "markdown",
   "metadata": {},
   "source": [
    "## Synthesize"
   ]
  },
  {
   "cell_type": "code",
   "execution_count": 4,
   "metadata": {},
   "outputs": [
    {
     "name": "stdout",
     "output_type": "stream",
     "text": [
      "Synthesizing feature 1 of 6: acceleration...\n",
      "Synthesizing feature 2 of 6: index...\n",
      "Synthesizing feature 3 of 6: weight...\n",
      "Synthesizing feature 4 of 6: displacement...\n",
      "Synthesizing feature 5 of 6: model_year...\n",
      "Synthesizing feature 6 of 6: mpg...\n"
     ]
    }
   ],
   "source": [
    "synth = si.rf_synth(train, [\"cylinders\"], random_state=0)"
   ]
  },
  {
   "cell_type": "markdown",
   "metadata": {},
   "source": [
    "## `nearest_synth_train_test`"
   ]
  },
  {
   "cell_type": "markdown",
   "metadata": {},
   "source": [
    "### Scaled\n",
    "\n",
    "By default, `nearest_synth_train_test` scales the `train` and `test` set with respect to `synth`."
   ]
  },
  {
   "cell_type": "code",
   "execution_count": 5,
   "metadata": {},
   "outputs": [
    {
     "name": "stdout",
     "output_type": "stream",
     "text": [
      "Calculating nearest records to training set...\n",
      "Calculating nearest records to test set...\n"
     ]
    },
    {
     "data": {
      "text/html": [
       "<div>\n",
       "<style scoped>\n",
       "    .dataframe tbody tr th:only-of-type {\n",
       "        vertical-align: middle;\n",
       "    }\n",
       "\n",
       "    .dataframe tbody tr th {\n",
       "        vertical-align: top;\n",
       "    }\n",
       "\n",
       "    .dataframe thead th {\n",
       "        text-align: right;\n",
       "    }\n",
       "</style>\n",
       "<table border=\"1\" class=\"dataframe\">\n",
       "  <thead>\n",
       "    <tr style=\"text-align: right;\">\n",
       "      <th></th>\n",
       "      <th>synth_id</th>\n",
       "      <th>train_id</th>\n",
       "      <th>train_dist</th>\n",
       "      <th>test_id</th>\n",
       "      <th>test_dist</th>\n",
       "      <th>dist_diff</th>\n",
       "      <th>dist_ratio</th>\n",
       "    </tr>\n",
       "  </thead>\n",
       "  <tbody>\n",
       "    <tr>\n",
       "      <th>0</th>\n",
       "      <td>0</td>\n",
       "      <td>43</td>\n",
       "      <td>0.763422</td>\n",
       "      <td>193</td>\n",
       "      <td>0.621526</td>\n",
       "      <td>0.141896</td>\n",
       "      <td>1.228303</td>\n",
       "    </tr>\n",
       "    <tr>\n",
       "      <th>1</th>\n",
       "      <td>1</td>\n",
       "      <td>51</td>\n",
       "      <td>0.252011</td>\n",
       "      <td>80</td>\n",
       "      <td>0.269380</td>\n",
       "      <td>-0.017368</td>\n",
       "      <td>0.935524</td>\n",
       "    </tr>\n",
       "    <tr>\n",
       "      <th>2</th>\n",
       "      <td>2</td>\n",
       "      <td>158</td>\n",
       "      <td>0.379365</td>\n",
       "      <td>86</td>\n",
       "      <td>0.325907</td>\n",
       "      <td>0.053458</td>\n",
       "      <td>1.164029</td>\n",
       "    </tr>\n",
       "    <tr>\n",
       "      <th>3</th>\n",
       "      <td>3</td>\n",
       "      <td>44</td>\n",
       "      <td>0.398754</td>\n",
       "      <td>150</td>\n",
       "      <td>0.655776</td>\n",
       "      <td>-0.257022</td>\n",
       "      <td>0.608065</td>\n",
       "    </tr>\n",
       "    <tr>\n",
       "      <th>4</th>\n",
       "      <td>4</td>\n",
       "      <td>67</td>\n",
       "      <td>0.282852</td>\n",
       "      <td>165</td>\n",
       "      <td>0.451860</td>\n",
       "      <td>-0.169009</td>\n",
       "      <td>0.625971</td>\n",
       "    </tr>\n",
       "  </tbody>\n",
       "</table>\n",
       "</div>"
      ],
      "text/plain": [
       "   synth_id  train_id  train_dist  test_id  test_dist  dist_diff  dist_ratio\n",
       "0         0        43    0.763422      193   0.621526   0.141896    1.228303\n",
       "1         1        51    0.252011       80   0.269380  -0.017368    0.935524\n",
       "2         2       158    0.379365       86   0.325907   0.053458    1.164029\n",
       "3         3        44    0.398754      150   0.655776  -0.257022    0.608065\n",
       "4         4        67    0.282852      165   0.451860  -0.169009    0.625971"
      ]
     },
     "execution_count": 5,
     "metadata": {},
     "output_type": "execute_result"
    }
   ],
   "source": [
    "nearest = si.nearest_synth_train_test(synth, train, test)\n",
    "nearest.head()"
   ]
  },
  {
   "cell_type": "markdown",
   "metadata": {},
   "source": [
    "### Unscaled\n",
    "\n",
    "To validate against `euclidean()`. Results differ a bit from the scaled version."
   ]
  },
  {
   "cell_type": "code",
   "execution_count": 6,
   "metadata": {},
   "outputs": [
    {
     "name": "stdout",
     "output_type": "stream",
     "text": [
      "Calculating nearest records to training set...\n",
      "Calculating nearest records to test set...\n"
     ]
    },
    {
     "data": {
      "text/html": [
       "<div>\n",
       "<style scoped>\n",
       "    .dataframe tbody tr th:only-of-type {\n",
       "        vertical-align: middle;\n",
       "    }\n",
       "\n",
       "    .dataframe tbody tr th {\n",
       "        vertical-align: top;\n",
       "    }\n",
       "\n",
       "    .dataframe thead th {\n",
       "        text-align: right;\n",
       "    }\n",
       "</style>\n",
       "<table border=\"1\" class=\"dataframe\">\n",
       "  <thead>\n",
       "    <tr style=\"text-align: right;\">\n",
       "      <th></th>\n",
       "      <th>synth_id</th>\n",
       "      <th>train_id</th>\n",
       "      <th>train_dist</th>\n",
       "      <th>test_id</th>\n",
       "      <th>test_dist</th>\n",
       "      <th>dist_diff</th>\n",
       "      <th>dist_ratio</th>\n",
       "    </tr>\n",
       "  </thead>\n",
       "  <tbody>\n",
       "    <tr>\n",
       "      <th>0</th>\n",
       "      <td>0</td>\n",
       "      <td>26</td>\n",
       "      <td>49.461566</td>\n",
       "      <td>87</td>\n",
       "      <td>72.968374</td>\n",
       "      <td>-23.506808</td>\n",
       "      <td>0.677849</td>\n",
       "    </tr>\n",
       "    <tr>\n",
       "      <th>1</th>\n",
       "      <td>1</td>\n",
       "      <td>185</td>\n",
       "      <td>32.474953</td>\n",
       "      <td>179</td>\n",
       "      <td>110.893846</td>\n",
       "      <td>-78.418893</td>\n",
       "      <td>0.292847</td>\n",
       "    </tr>\n",
       "    <tr>\n",
       "      <th>2</th>\n",
       "      <td>2</td>\n",
       "      <td>158</td>\n",
       "      <td>39.166733</td>\n",
       "      <td>164</td>\n",
       "      <td>18.976923</td>\n",
       "      <td>20.189810</td>\n",
       "      <td>2.063914</td>\n",
       "    </tr>\n",
       "    <tr>\n",
       "      <th>3</th>\n",
       "      <td>3</td>\n",
       "      <td>44</td>\n",
       "      <td>29.236967</td>\n",
       "      <td>25</td>\n",
       "      <td>66.282123</td>\n",
       "      <td>-37.045156</td>\n",
       "      <td>0.441099</td>\n",
       "    </tr>\n",
       "    <tr>\n",
       "      <th>4</th>\n",
       "      <td>4</td>\n",
       "      <td>67</td>\n",
       "      <td>1.017027</td>\n",
       "      <td>165</td>\n",
       "      <td>43.336294</td>\n",
       "      <td>-42.319267</td>\n",
       "      <td>0.023468</td>\n",
       "    </tr>\n",
       "  </tbody>\n",
       "</table>\n",
       "</div>"
      ],
      "text/plain": [
       "   synth_id  train_id  train_dist  test_id   test_dist  dist_diff  dist_ratio\n",
       "0         0        26   49.461566       87   72.968374 -23.506808    0.677849\n",
       "1         1       185   32.474953      179  110.893846 -78.418893    0.292847\n",
       "2         2       158   39.166733      164   18.976923  20.189810    2.063914\n",
       "3         3        44   29.236967       25   66.282123 -37.045156    0.441099\n",
       "4         4        67    1.017027      165   43.336294 -42.319267    0.023468"
      ]
     },
     "execution_count": 6,
     "metadata": {},
     "output_type": "execute_result"
    }
   ],
   "source": [
    "nearest_unscaled = si.nearest_synth_train_test(synth, train, test, scale=False)\n",
    "nearest_unscaled.head()"
   ]
  },
  {
   "cell_type": "code",
   "execution_count": 7,
   "metadata": {},
   "outputs": [
    {
     "data": {
      "text/html": [
       "<div>\n",
       "<style scoped>\n",
       "    .dataframe tbody tr th:only-of-type {\n",
       "        vertical-align: middle;\n",
       "    }\n",
       "\n",
       "    .dataframe tbody tr th {\n",
       "        vertical-align: top;\n",
       "    }\n",
       "\n",
       "    .dataframe thead th {\n",
       "        text-align: right;\n",
       "    }\n",
       "</style>\n",
       "<table border=\"1\" class=\"dataframe\">\n",
       "  <thead>\n",
       "    <tr style=\"text-align: right;\">\n",
       "      <th></th>\n",
       "      <th>id_A</th>\n",
       "      <th>id_B</th>\n",
       "      <th>dist</th>\n",
       "    </tr>\n",
       "  </thead>\n",
       "  <tbody>\n",
       "    <tr>\n",
       "      <th>0</th>\n",
       "      <td>0</td>\n",
       "      <td>26</td>\n",
       "      <td>49.461566</td>\n",
       "    </tr>\n",
       "    <tr>\n",
       "      <th>1</th>\n",
       "      <td>1</td>\n",
       "      <td>185</td>\n",
       "      <td>32.474953</td>\n",
       "    </tr>\n",
       "    <tr>\n",
       "      <th>2</th>\n",
       "      <td>2</td>\n",
       "      <td>158</td>\n",
       "      <td>39.166733</td>\n",
       "    </tr>\n",
       "    <tr>\n",
       "      <th>3</th>\n",
       "      <td>3</td>\n",
       "      <td>44</td>\n",
       "      <td>29.236967</td>\n",
       "    </tr>\n",
       "    <tr>\n",
       "      <th>4</th>\n",
       "      <td>4</td>\n",
       "      <td>67</td>\n",
       "      <td>1.017027</td>\n",
       "    </tr>\n",
       "  </tbody>\n",
       "</table>\n",
       "</div>"
      ],
      "text/plain": [
       "   id_A  id_B       dist\n",
       "0     0    26  49.461566\n",
       "1     1   185  32.474953\n",
       "2     2   158  39.166733\n",
       "3     3    44  29.236967\n",
       "4     4    67   1.017027"
      ]
     },
     "execution_count": 7,
     "metadata": {},
     "output_type": "execute_result"
    }
   ],
   "source": [
    "nearest_train = si.nearest_record(synth, train)\n",
    "nearest_train.head()"
   ]
  },
  {
   "cell_type": "markdown",
   "metadata": {},
   "source": [
    "Verify that `dist` matches `euclidean()`."
   ]
  },
  {
   "cell_type": "code",
   "execution_count": 8,
   "metadata": {},
   "outputs": [
    {
     "data": {
      "text/plain": [
       "49.46156593628014"
      ]
     },
     "execution_count": 8,
     "metadata": {},
     "output_type": "execute_result"
    }
   ],
   "source": [
    "euclidean(synth.loc[0], train.loc[int(nearest_train.iloc[0].id_B)])"
   ]
  },
  {
   "cell_type": "markdown",
   "metadata": {},
   "source": [
    "## `nearest_synth_train_test_record`\n",
    "\n",
    "Note this uses the scaled version."
   ]
  },
  {
   "cell_type": "code",
   "execution_count": 9,
   "metadata": {},
   "outputs": [
    {
     "name": "stdout",
     "output_type": "stream",
     "text": [
      "Synthetic record 0 is closest to training record 43 (distance=0.76) and closest to test record 193 (distance=0.62).\n"
     ]
    },
    {
     "data": {
      "text/html": [
       "<div>\n",
       "<style scoped>\n",
       "    .dataframe tbody tr th:only-of-type {\n",
       "        vertical-align: middle;\n",
       "    }\n",
       "\n",
       "    .dataframe tbody tr th {\n",
       "        vertical-align: top;\n",
       "    }\n",
       "\n",
       "    .dataframe thead th {\n",
       "        text-align: right;\n",
       "    }\n",
       "</style>\n",
       "<table border=\"1\" class=\"dataframe\">\n",
       "  <thead>\n",
       "    <tr style=\"text-align: right;\">\n",
       "      <th></th>\n",
       "      <th>train</th>\n",
       "      <th>synth</th>\n",
       "      <th>test</th>\n",
       "    </tr>\n",
       "  </thead>\n",
       "  <tbody>\n",
       "    <tr>\n",
       "      <th>acceleration</th>\n",
       "      <td>13.2</td>\n",
       "      <td>13.311413</td>\n",
       "      <td>14.0</td>\n",
       "    </tr>\n",
       "    <tr>\n",
       "      <th>cylinders</th>\n",
       "      <td>8.0</td>\n",
       "      <td>8.000000</td>\n",
       "      <td>8.0</td>\n",
       "    </tr>\n",
       "    <tr>\n",
       "      <th>displacement</th>\n",
       "      <td>318.0</td>\n",
       "      <td>303.188492</td>\n",
       "      <td>318.0</td>\n",
       "    </tr>\n",
       "    <tr>\n",
       "      <th>index</th>\n",
       "      <td>208.0</td>\n",
       "      <td>226.026085</td>\n",
       "      <td>215.0</td>\n",
       "    </tr>\n",
       "    <tr>\n",
       "      <th>model_year</th>\n",
       "      <td>76.0</td>\n",
       "      <td>77.000000</td>\n",
       "      <td>76.0</td>\n",
       "    </tr>\n",
       "    <tr>\n",
       "      <th>mpg</th>\n",
       "      <td>13.0</td>\n",
       "      <td>13.000000</td>\n",
       "      <td>13.0</td>\n",
       "    </tr>\n",
       "    <tr>\n",
       "      <th>weight</th>\n",
       "      <td>3940.0</td>\n",
       "      <td>3365.000000</td>\n",
       "      <td>3755.0</td>\n",
       "    </tr>\n",
       "  </tbody>\n",
       "</table>\n",
       "</div>"
      ],
      "text/plain": [
       "               train        synth    test\n",
       "acceleration    13.2    13.311413    14.0\n",
       "cylinders        8.0     8.000000     8.0\n",
       "displacement   318.0   303.188492   318.0\n",
       "index          208.0   226.026085   215.0\n",
       "model_year      76.0    77.000000    76.0\n",
       "mpg             13.0    13.000000    13.0\n",
       "weight        3940.0  3365.000000  3755.0"
      ]
     },
     "execution_count": 9,
     "metadata": {},
     "output_type": "execute_result"
    }
   ],
   "source": [
    "si.nearest_synth_train_test_record(nearest.iloc[0], synth, train, test)"
   ]
  }
 ],
 "metadata": {
  "kernelspec": {
   "display_name": "Python 3",
   "language": "python",
   "name": "python3"
  },
  "language_info": {
   "codemirror_mode": {
    "name": "ipython",
    "version": 3
   },
   "file_extension": ".py",
   "mimetype": "text/x-python",
   "name": "python",
   "nbconvert_exporter": "python",
   "pygments_lexer": "ipython3",
   "version": "3.6.6"
  }
 },
 "nbformat": 4,
 "nbformat_minor": 2
}
